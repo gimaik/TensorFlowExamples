{
 "cells": [
  {
   "cell_type": "markdown",
   "metadata": {},
   "source": [
    "# Convolutional Net"
   ]
  },
  {
   "cell_type": "markdown",
   "metadata": {},
   "source": [
    "## Importing Libraries and Data"
   ]
  },
  {
   "cell_type": "code",
   "execution_count": 1,
   "metadata": {
    "collapsed": false
   },
   "outputs": [
    {
     "name": "stdout",
     "output_type": "stream",
     "text": [
      "Extracting MNIST_data/train-images-idx3-ubyte.gz\n",
      "Extracting MNIST_data/train-labels-idx1-ubyte.gz\n",
      "Extracting MNIST_data/t10k-images-idx3-ubyte.gz\n",
      "Extracting MNIST_data/t10k-labels-idx1-ubyte.gz\n"
     ]
    }
   ],
   "source": [
    "import tensorflow as tf\n",
    "import numpy as np\n",
    "import matplotlib.pyplot as plt\n",
    "import seaborn\n",
    "\n",
    "from tensorflow.examples.tutorials.mnist import input_data\n",
    "mnist = input_data.read_data_sets('MNIST_data', one_hot=True)"
   ]
  },
  {
   "cell_type": "markdown",
   "metadata": {},
   "source": [
    "## Useful Functions"
   ]
  },
  {
   "cell_type": "code",
   "execution_count": 2,
   "metadata": {
    "collapsed": true
   },
   "outputs": [],
   "source": [
    "def weights(shape, scale):\n",
    "    return tf.Variable(tf.random_normal(shape, stddev = scale))\n",
    "\n",
    "def bias(shape, value):\n",
    "    return tf.Variable(tf.constant(value, shape = shape))\n",
    "\n",
    "def conv2d(x, W):\n",
    "    return tf.nn.conv2d(x, W, strides=[1, 1, 1, 1], padding='SAME')\n",
    "\n",
    "def maxPooling(x):\n",
    "    return tf.nn.max_pool(x, ksize=[1, 2, 2, 1], strides=[1, 2, 2, 1], padding='SAME')"
   ]
  },
  {
   "cell_type": "markdown",
   "metadata": {
    "collapsed": true
   },
   "source": [
    "## Setting up the placeholders"
   ]
  },
  {
   "cell_type": "code",
   "execution_count": 3,
   "metadata": {
    "collapsed": false
   },
   "outputs": [],
   "source": [
    "x = tf.placeholder(tf.float32, shape=[None, 784])\n",
    "y = tf.placeholder(tf.float32, shape =[None, 10])\n",
    "keep_prob = tf.placeholder(tf.float32)"
   ]
  },
  {
   "cell_type": "markdown",
   "metadata": {
    "collapsed": true
   },
   "source": [
    "## Setting up the variables"
   ]
  },
  {
   "cell_type": "code",
   "execution_count": 4,
   "metadata": {
    "collapsed": false
   },
   "outputs": [],
   "source": [
    "W ={\n",
    "    \"1\": weights([5,5,1,32], 0.1),\n",
    "    \"2\": weights([5,5,32,64], 0.1),\n",
    "    \"FC\": weights([7*7*64, 1024], 0.1),\n",
    "    \"Output\": weights([1024, 10], 0.1)   \n",
    "}\n",
    "\n",
    "\n",
    "B = {\n",
    "    \"1\": bias([32], 0.05),\n",
    "    \"2\": bias([64], 0.05),\n",
    "    \"FC\": bias([1024], 0.05),\n",
    "    \"Output\":bias([10], 0.5)\n",
    "}"
   ]
  },
  {
   "cell_type": "markdown",
   "metadata": {
    "collapsed": true
   },
   "source": [
    "## Defining the model"
   ]
  },
  {
   "cell_type": "code",
   "execution_count": 5,
   "metadata": {
    "collapsed": true
   },
   "outputs": [],
   "source": [
    "def model(x, W, B, keep_prob):\n",
    "    \n",
    "    x_image = tf.reshape(x, [-1,28,28,1])\n",
    "    \n",
    "    h_conv1 = tf.nn.relu(conv2d(x_image, W[\"1\"]) + B[\"1\"])\n",
    "    h_pool1 = maxPooling(h_conv1)\n",
    "    \n",
    "    h_conv2 = tf.nn.relu(conv2d(h_pool1, W[\"2\"]) + B[\"2\"])\n",
    "    h_pool2 = maxPooling(h_conv2)\n",
    "    h_pool2_flat = tf.reshape(h_pool2,[-1, 7*7*64])\n",
    "    \n",
    "    h_fc1 = tf.nn.relu(tf.matmul(h_pool2_flat, W[\"FC\"]) + B[\"FC\"])\n",
    "    h_fc1_hidden = tf.nn.dropout(h_fc1, keep_prob)\n",
    "    \n",
    "    y_conv = tf.matmul(h_fc1_hidden, W[\"Output\"]) + B[\"Output\"]\n",
    "    \n",
    "    return y_conv"
   ]
  },
  {
   "cell_type": "markdown",
   "metadata": {
    "collapsed": true
   },
   "source": [
    "## Setting up Loss Function"
   ]
  },
  {
   "cell_type": "code",
   "execution_count": 6,
   "metadata": {
    "collapsed": false
   },
   "outputs": [],
   "source": [
    "y_conv = model(x,W,B,keep_prob)\n",
    "\n",
    "cross_entropy = tf.reduce_mean(tf.nn.softmax_cross_entropy_with_logits(logits = y_conv, labels = y))\n",
    "train_step = tf.train.AdamOptimizer().minimize(cross_entropy)\n",
    "correct_prediction = tf.equal(tf.argmax(y_conv,1), tf.argmax(y,1))\n",
    "accuracy = tf.reduce_mean(tf.cast(correct_prediction, tf.float32))"
   ]
  },
  {
   "cell_type": "markdown",
   "metadata": {},
   "source": [
    "## Stochastic Gradient Descent"
   ]
  },
  {
   "cell_type": "code",
   "execution_count": 7,
   "metadata": {
    "collapsed": false
   },
   "outputs": [
    {
     "name": "stdout",
     "output_type": "stream",
     "text": [
      "Step 0, Training Accuracy 0.117117\n",
      "Step 100, Training Accuracy 0.954955\n",
      "Step 200, Training Accuracy 0.954955\n",
      "Step 300, Training Accuracy 0.954955\n",
      "Step 400, Training Accuracy 0.972973\n",
      "Step 500, Training Accuracy 0.954955\n",
      "Step 600, Training Accuracy 0.990991\n",
      "Step 700, Training Accuracy 0.981982\n",
      "Step 800, Training Accuracy 0.981982\n",
      "Step 900, Training Accuracy 1\n",
      "Step 1000, Training Accuracy 1\n",
      "Step 1100, Training Accuracy 0.990991\n",
      "Step 1200, Training Accuracy 0.990991\n",
      "Step 1300, Training Accuracy 1\n",
      "Step 1400, Training Accuracy 0.981982\n",
      "Step 1500, Training Accuracy 0.990991\n",
      "Step 1600, Training Accuracy 0.990991\n",
      "Step 1700, Training Accuracy 0.990991\n",
      "Step 1800, Training Accuracy 0.990991\n",
      "Step 1900, Training Accuracy 0.990991\n",
      "Step 2000, Training Accuracy 0.990991\n",
      "Step 2100, Training Accuracy 0.990991\n",
      "Step 2200, Training Accuracy 0.990991\n",
      "Step 2300, Training Accuracy 1\n",
      "Step 2400, Training Accuracy 1\n",
      "Step 2500, Training Accuracy 0.990991\n",
      "Step 2600, Training Accuracy 1\n",
      "Step 2700, Training Accuracy 1\n",
      "Step 2800, Training Accuracy 1\n",
      "Step 2900, Training Accuracy 1\n",
      "Step 3000, Training Accuracy 1\n",
      "Step 3100, Training Accuracy 1\n",
      "Step 3200, Training Accuracy 1\n",
      "Step 3300, Training Accuracy 1\n",
      "Step 3400, Training Accuracy 0.990991\n",
      "Step 3500, Training Accuracy 0.990991\n",
      "Step 3600, Training Accuracy 0.990991\n",
      "Step 3700, Training Accuracy 1\n",
      "Step 3800, Training Accuracy 1\n",
      "Step 3900, Training Accuracy 1\n",
      "Step 4000, Training Accuracy 1\n",
      "Step 4100, Training Accuracy 1\n",
      "Step 4200, Training Accuracy 1\n",
      "Step 4300, Training Accuracy 0.990991\n",
      "Step 4400, Training Accuracy 1\n",
      "Step 4500, Training Accuracy 1\n",
      "Step 4600, Training Accuracy 0.990991\n",
      "Step 4700, Training Accuracy 1\n",
      "Step 4800, Training Accuracy 1\n",
      "Step 4900, Training Accuracy 1\n",
      "Step 5000, Training Accuracy 1\n",
      "Step 5100, Training Accuracy 1\n",
      "Step 5200, Training Accuracy 0.990991\n",
      "Step 5300, Training Accuracy 1\n",
      "Step 5400, Training Accuracy 1\n",
      "Step 5500, Training Accuracy 1\n",
      "Step 5600, Training Accuracy 1\n",
      "Step 5700, Training Accuracy 1\n",
      "Step 5800, Training Accuracy 1\n",
      "Step 5900, Training Accuracy 1\n",
      "Step 6000, Training Accuracy 1\n",
      "Step 6100, Training Accuracy 1\n",
      "Step 6200, Training Accuracy 1\n",
      "Step 6300, Training Accuracy 1\n",
      "Step 6400, Training Accuracy 1\n",
      "Step 6500, Training Accuracy 1\n",
      "Step 6600, Training Accuracy 0.990991\n",
      "Step 6700, Training Accuracy 0.990991\n",
      "Step 6800, Training Accuracy 1\n",
      "Step 6900, Training Accuracy 0.990991\n",
      "Step 7000, Training Accuracy 1\n",
      "Step 7100, Training Accuracy 1\n",
      "Step 7200, Training Accuracy 1\n",
      "Step 7300, Training Accuracy 1\n",
      "Step 7400, Training Accuracy 1\n",
      "Step 7500, Training Accuracy 1\n",
      "Step 7600, Training Accuracy 1\n",
      "Step 7700, Training Accuracy 1\n",
      "Step 7800, Training Accuracy 1\n",
      "Step 7900, Training Accuracy 0.990991\n",
      "Step 8000, Training Accuracy 1\n",
      "Step 8100, Training Accuracy 1\n",
      "Step 8200, Training Accuracy 1\n",
      "Step 8300, Training Accuracy 1\n",
      "Step 8400, Training Accuracy 1\n",
      "Step 8500, Training Accuracy 1\n",
      "Step 8600, Training Accuracy 1\n",
      "Step 8700, Training Accuracy 1\n",
      "Step 8800, Training Accuracy 1\n",
      "Step 8900, Training Accuracy 1\n",
      "Step 9000, Training Accuracy 1\n",
      "Step 9100, Training Accuracy 0.990991\n",
      "Step 9200, Training Accuracy 1\n",
      "Step 9300, Training Accuracy 1\n",
      "Step 9400, Training Accuracy 1\n",
      "Step 9500, Training Accuracy 1\n",
      "Step 9600, Training Accuracy 1\n",
      "Step 9700, Training Accuracy 1\n",
      "Step 9800, Training Accuracy 1\n",
      "Step 9900, Training Accuracy 1\n",
      "Step 10000, Training Accuracy 1\n",
      "Step 10100, Training Accuracy 1\n",
      "Step 10200, Training Accuracy 1\n",
      "Step 10300, Training Accuracy 1\n",
      "Step 10400, Training Accuracy 1\n",
      "Step 10500, Training Accuracy 1\n",
      "Step 10600, Training Accuracy 1\n",
      "Step 10700, Training Accuracy 1\n",
      "Step 10800, Training Accuracy 1\n",
      "Step 10900, Training Accuracy 1\n",
      "Step 11000, Training Accuracy 1\n",
      "Step 11100, Training Accuracy 1\n",
      "Step 11200, Training Accuracy 1\n",
      "Step 11300, Training Accuracy 1\n",
      "Step 11400, Training Accuracy 1\n",
      "Step 11500, Training Accuracy 0.990991\n",
      "Step 11600, Training Accuracy 1\n",
      "Step 11700, Training Accuracy 1\n",
      "Step 11800, Training Accuracy 1\n",
      "Step 11900, Training Accuracy 1\n",
      "Step 12000, Training Accuracy 1\n",
      "Step 12100, Training Accuracy 1\n",
      "Step 12200, Training Accuracy 1\n",
      "Step 12300, Training Accuracy 0.990991\n",
      "Step 12400, Training Accuracy 0.990991\n",
      "Step 12500, Training Accuracy 1\n",
      "Step 12600, Training Accuracy 1\n",
      "Step 12700, Training Accuracy 1\n",
      "Step 12800, Training Accuracy 1\n",
      "Step 12900, Training Accuracy 1\n",
      "Step 13000, Training Accuracy 1\n",
      "Step 13100, Training Accuracy 1\n",
      "Step 13200, Training Accuracy 1\n",
      "Step 13300, Training Accuracy 1\n",
      "Step 13400, Training Accuracy 1\n",
      "Step 13500, Training Accuracy 1\n",
      "Step 13600, Training Accuracy 0.990991\n",
      "Step 13700, Training Accuracy 0.990991\n",
      "Step 13800, Training Accuracy 1\n",
      "Step 13900, Training Accuracy 1\n",
      "Step 14000, Training Accuracy 1\n",
      "Step 14100, Training Accuracy 1\n",
      "Step 14200, Training Accuracy 1\n",
      "Step 14300, Training Accuracy 1\n",
      "Step 14400, Training Accuracy 1\n",
      "Step 14500, Training Accuracy 1\n",
      "Step 14600, Training Accuracy 1\n",
      "Step 14700, Training Accuracy 1\n",
      "Step 14800, Training Accuracy 1\n",
      "Step 14900, Training Accuracy 1\n",
      "Step 15000, Training Accuracy 1\n",
      "Step 15100, Training Accuracy 1\n",
      "Step 15200, Training Accuracy 1\n",
      "Step 15300, Training Accuracy 1\n",
      "Step 15400, Training Accuracy 1\n",
      "Step 15500, Training Accuracy 1\n",
      "Step 15600, Training Accuracy 1\n",
      "Step 15700, Training Accuracy 1\n",
      "Step 15800, Training Accuracy 1\n",
      "Step 15900, Training Accuracy 1\n",
      "Step 16000, Training Accuracy 1\n",
      "Step 16100, Training Accuracy 1\n",
      "Step 16200, Training Accuracy 1\n",
      "Step 16300, Training Accuracy 1\n",
      "Step 16400, Training Accuracy 1\n",
      "Step 16500, Training Accuracy 1\n",
      "Step 16600, Training Accuracy 1\n",
      "Step 16700, Training Accuracy 1\n",
      "Step 16800, Training Accuracy 1\n",
      "Step 16900, Training Accuracy 1\n",
      "Step 17000, Training Accuracy 1\n",
      "Step 17100, Training Accuracy 1\n",
      "Step 17200, Training Accuracy 1\n",
      "Step 17300, Training Accuracy 1\n",
      "Step 17400, Training Accuracy 1\n",
      "Step 17500, Training Accuracy 1\n",
      "Step 17600, Training Accuracy 1\n",
      "Step 17700, Training Accuracy 1\n",
      "Step 17800, Training Accuracy 1\n",
      "Step 17900, Training Accuracy 1\n",
      "Step 18000, Training Accuracy 1\n",
      "Step 18100, Training Accuracy 1\n",
      "Step 18200, Training Accuracy 1\n",
      "Step 18300, Training Accuracy 1\n",
      "Step 18400, Training Accuracy 1\n",
      "Step 18500, Training Accuracy 1\n",
      "Step 18600, Training Accuracy 0.990991\n",
      "Step 18700, Training Accuracy 1\n",
      "Step 18800, Training Accuracy 1\n",
      "Step 18900, Training Accuracy 1\n",
      "Step 19000, Training Accuracy 1\n",
      "Step 19100, Training Accuracy 1\n",
      "Step 19200, Training Accuracy 1\n",
      "Step 19300, Training Accuracy 1\n",
      "Step 19400, Training Accuracy 1\n",
      "Step 19500, Training Accuracy 1\n",
      "Step 19600, Training Accuracy 1\n",
      "Step 19700, Training Accuracy 1\n",
      "Step 19800, Training Accuracy 1\n",
      "Step 19900, Training Accuracy 1\n",
      "Step 20000, Training Accuracy 1\n",
      "Step 20100, Training Accuracy 1\n",
      "Step 20200, Training Accuracy 1\n",
      "Step 20300, Training Accuracy 1\n",
      "Step 20400, Training Accuracy 1\n",
      "Step 20500, Training Accuracy 1\n",
      "Step 20600, Training Accuracy 1\n",
      "Step 20700, Training Accuracy 1\n",
      "Step 20800, Training Accuracy 1\n",
      "Step 20900, Training Accuracy 1\n",
      "Step 21000, Training Accuracy 1\n",
      "Step 21100, Training Accuracy 1\n",
      "Step 21200, Training Accuracy 1\n",
      "Step 21300, Training Accuracy 1\n",
      "Step 21400, Training Accuracy 1\n",
      "Step 21500, Training Accuracy 1\n",
      "Step 21600, Training Accuracy 1\n",
      "Step 21700, Training Accuracy 1\n",
      "Step 21800, Training Accuracy 1\n",
      "Step 21900, Training Accuracy 1\n",
      "Step 22000, Training Accuracy 1\n",
      "Step 22100, Training Accuracy 1\n",
      "Step 22200, Training Accuracy 1\n",
      "Step 22300, Training Accuracy 1\n",
      "Step 22400, Training Accuracy 1\n",
      "Step 22500, Training Accuracy 1\n",
      "Step 22600, Training Accuracy 1\n",
      "Step 22700, Training Accuracy 1\n",
      "Step 22800, Training Accuracy 1\n",
      "Step 22900, Training Accuracy 1\n",
      "Step 23000, Training Accuracy 1\n",
      "Step 23100, Training Accuracy 1\n",
      "Step 23200, Training Accuracy 1\n",
      "Step 23300, Training Accuracy 1\n",
      "Step 23400, Training Accuracy 1\n",
      "Step 23500, Training Accuracy 0.990991\n",
      "Step 23600, Training Accuracy 1\n",
      "Step 23700, Training Accuracy 1\n",
      "Step 23800, Training Accuracy 1\n",
      "Step 23900, Training Accuracy 1\n",
      "Step 24000, Training Accuracy 1\n",
      "Step 24100, Training Accuracy 1\n",
      "Step 24200, Training Accuracy 1\n",
      "Step 24300, Training Accuracy 1\n",
      "Step 24400, Training Accuracy 1\n",
      "Step 24500, Training Accuracy 1\n",
      "Step 24600, Training Accuracy 1\n",
      "Step 24700, Training Accuracy 1\n",
      "Step 24800, Training Accuracy 1\n",
      "Step 24900, Training Accuracy 1\n",
      "Test Accuracy 0.992\n"
     ]
    }
   ],
   "source": [
    "with tf.Session() as sess:\n",
    "    sess.run(tf.initialize_all_variables())\n",
    "    \n",
    "    for i in range(25000):\n",
    "        batch = mnist.train.next_batch(111)\n",
    "\n",
    "        if i%100 ==0:\n",
    "            train_accuracy = sess.run(accuracy,feed_dict ={x: batch[0], y: batch[1], keep_prob : 1.0})\n",
    "            print(\"Step %d, Training Accuracy %g\"%(i, train_accuracy))\n",
    "        \n",
    "        _, xEntropy = sess.run([train_step, cross_entropy], feed_dict={x: batch[0], y: batch[1], keep_prob : 0.5})\n",
    "        \n",
    "    print(\"Test Accuracy %g\"% sess.run(accuracy, feed_dict={x: mnist.test.images, y: mnist.test.labels, keep_prob : 1.0}))"
   ]
  }
 ],
 "metadata": {
  "kernelspec": {
   "display_name": "Python 3",
   "language": "python",
   "name": "python3"
  },
  "language_info": {
   "codemirror_mode": {
    "name": "ipython",
    "version": 3.0
   },
   "file_extension": ".py",
   "mimetype": "text/x-python",
   "name": "python",
   "nbconvert_exporter": "python",
   "pygments_lexer": "ipython3",
   "version": "3.5.2"
  }
 },
 "nbformat": 4,
 "nbformat_minor": 0
}