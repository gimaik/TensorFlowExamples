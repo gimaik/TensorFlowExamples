{
 "cells": [
  {
   "cell_type": "markdown",
   "metadata": {},
   "source": [
    "# Convolutional Net"
   ]
  },
  {
   "cell_type": "markdown",
   "metadata": {},
   "source": [
    "## Importing Libraries and Data"
   ]
  },
  {
   "cell_type": "code",
   "execution_count": 1,
   "metadata": {
    "collapsed": false
   },
   "outputs": [
    {
     "name": "stdout",
     "output_type": "stream",
     "text": [
      "Extracting MNIST_data/train-images-idx3-ubyte.gz\n",
      "Extracting MNIST_data/train-labels-idx1-ubyte.gz\n",
      "Extracting MNIST_data/t10k-images-idx3-ubyte.gz\n",
      "Extracting MNIST_data/t10k-labels-idx1-ubyte.gz\n"
     ]
    }
   ],
   "source": [
    "import tensorflow as tf\n",
    "import numpy as np\n",
    "import matplotlib.pyplot as plt\n",
    "import seaborn\n",
    "\n",
    "from tensorflow.examples.tutorials.mnist import input_data\n",
    "mnist = input_data.read_data_sets('MNIST_data', one_hot=True)"
   ]
  },
  {
   "cell_type": "markdown",
   "metadata": {},
   "source": [
    "## Useful Functions"
   ]
  },
  {
   "cell_type": "code",
   "execution_count": 2,
   "metadata": {
    "collapsed": true
   },
   "outputs": [],
   "source": [
    "def weights(shape, scale):\n",
    "    return tf.Variable(tf.random_normal(shape, stddev = scale))\n",
    "\n",
    "def bias(shape, value):\n",
    "    return tf.Variable(tf.constant(value, shape = shape))\n",
    "\n",
    "def conv2d(x, W):\n",
    "    return tf.nn.conv2d(x, W, strides=[1, 1, 1, 1], padding='SAME')\n",
    "\n",
    "def maxPooling(x):\n",
    "    return tf.nn.max_pool(x, ksize=[1, 2, 2, 1], strides=[1, 2, 2, 1], padding='SAME')"
   ]
  },
  {
   "cell_type": "markdown",
   "metadata": {
    "collapsed": true
   },
   "source": [
    "## Setting up the placeholders"
   ]
  },
  {
   "cell_type": "code",
   "execution_count": 3,
   "metadata": {
    "collapsed": false
   },
   "outputs": [],
   "source": [
    "x = tf.placeholder(tf.float32, shape=[None, 784])\n",
    "y = tf.placeholder(tf.float32, shape =[None, 10])\n",
    "keep_prob = tf.placeholder(tf.float32)"
   ]
  },
  {
   "cell_type": "markdown",
   "metadata": {
    "collapsed": true
   },
   "source": [
    "## Setting up the variables"
   ]
  },
  {
   "cell_type": "code",
   "execution_count": 4,
   "metadata": {
    "collapsed": false
   },
   "outputs": [],
   "source": [
    "W ={\n",
    "    \"1\": weights([5,5,1,32], 0.1),\n",
    "    \"2\": weights([5,5,32,64], 0.1),\n",
    "    \"FC\": weights([7*7*64, 1024], 0.1),\n",
    "    \"Output\": weights([1024, 10], 0.1)   \n",
    "}\n",
    "\n",
    "\n",
    "B = {\n",
    "    \"1\": bias([32], 0.05),\n",
    "    \"2\": bias([64], 0.05),\n",
    "    \"FC\": bias([1024], 0.05),\n",
    "    \"Output\":bias([10], 0.5)\n",
    "}"
   ]
  },
  {
   "cell_type": "markdown",
   "metadata": {
    "collapsed": true
   },
   "source": [
    "## Defining the model"
   ]
  },
  {
   "cell_type": "code",
   "execution_count": 5,
   "metadata": {
    "collapsed": true
   },
   "outputs": [],
   "source": [
    "def model(x, W, B, keep_prob):\n",
    "    \n",
    "    x_image = tf.reshape(x, [-1,28,28,1])\n",
    "    \n",
    "    h_conv1 = tf.nn.relu(conv2d(x_image, W[\"1\"]) + B[\"1\"])\n",
    "    h_pool1 = maxPooling(h_conv1)\n",
    "    \n",
    "    h_conv2 = tf.nn.relu(conv2d(h_pool1, W[\"2\"]) + B[\"2\"])\n",
    "    h_pool2 = maxPooling(h_conv2)\n",
    "    h_pool2_flat = tf.reshape(h_pool2,[-1, 7*7*64])\n",
    "    \n",
    "    h_fc1 = tf.nn.relu(tf.matmul(h_pool2_flat, W[\"FC\"]) + B[\"FC\"])\n",
    "    h_fc1_hidden = tf.nn.dropout(h_fc1, keep_prob)\n",
    "    \n",
    "    y_conv = tf.matmul(h_fc1_hidden, W[\"Output\"]) + B[\"Output\"]\n",
    "    \n",
    "    return y_conv"
   ]
  },
  {
   "cell_type": "markdown",
   "metadata": {
    "collapsed": true
   },
   "source": [
    "## Setting up Loss Function"
   ]
  },
  {
   "cell_type": "code",
   "execution_count": null,
   "metadata": {
    "collapsed": false
   },
   "outputs": [],
   "source": [
    "y_conv = model(x,W,B,keep_prob)\n",
    "\n",
    "cross_entropy = tf.reduce_mean(tf.nn.softmax_cross_entropy_with_logits(logits = y_conv, labels = y))\n",
    "train_step = tf.train.AdamOptimizer().minimize(cross_entropy)\n",
    "correct_prediction = tf.equal(tf.argmax(y_conv,1), tf.argmax(y,1))\n",
    "accuracy = tf.reduce_mean(tf.cast(correct_prediction, tf.float32))"
   ]
  },
  {
   "cell_type": "markdown",
   "metadata": {},
   "source": [
    "## Stochastic Gradient Descent"
   ]
  },
  {
   "cell_type": "code",
   "execution_count": null,
   "metadata": {
    "collapsed": false
   },
   "outputs": [
    {
     "name": "stdout",
     "output_type": "stream",
     "text": [
      "Step 0, Training Accuracy 0.117117\n",
      "Step 100, Training Accuracy 0.954955\n",
      "Step 200, Training Accuracy 0.954955\n",
      "Step 300, Training Accuracy 0.954955\n",
      "Step 400, Training Accuracy 0.972973\n",
      "Step 500, Training Accuracy 0.954955\n",
      "Step 600, Training Accuracy 0.990991\n",
      "Step 700, Training Accuracy 0.981982\n",
      "Step 800, Training Accuracy 0.981982\n",
      "Step 900, Training Accuracy 1\n",
      "Step 1000, Training Accuracy 1\n",
      "Step 1100, Training Accuracy 0.990991\n",
      "Step 1200, Training Accuracy 0.990991\n",
      "Step 1300, Training Accuracy 1\n",
      "Step 1400, Training Accuracy 0.981982\n",
      "Step 1500, Training Accuracy 0.990991\n",
      "Step 1600, Training Accuracy 0.990991\n",
      "Step 1700, Training Accuracy 0.990991\n",
      "Step 1800, Training Accuracy 0.990991\n",
      "Step 1900, Training Accuracy 0.990991\n"
     ]
    }
   ],
   "source": [
    "with tf.Session() as sess:\n",
    "    sess.run(tf.initialize_all_variables())\n",
    "    \n",
    "    for i in range(25000):\n",
    "        batch = mnist.train.next_batch(111)\n",
    "\n",
    "        if i%100 ==0:\n",
    "            train_accuracy = sess.run(accuracy,feed_dict ={x: batch[0], y: batch[1], keep_prob : 1.0})\n",
    "            print(\"Step %d, Training Accuracy %g\"%(i, train_accuracy))\n",
    "        \n",
    "        _, xEntropy = sess.run([train_step, cross_entropy], feed_dict={x: batch[0], y: batch[1], keep_prob : 0.5})\n",
    "        \n",
    "    print(\"Test Accuracy %g\"% sess.run(accuracy, feed_dict={x: mnist.test.images, y: mnist.test.labels, keep_prob : 1.0}))\n",
    "        "
   ]
  }
 ],
 "metadata": {
  "kernelspec": {
   "display_name": "Python 3",
   "language": "python",
   "name": "python3"
  },
  "language_info": {
   "codemirror_mode": {
    "name": "ipython",
    "version": 3
   },
   "file_extension": ".py",
   "mimetype": "text/x-python",
   "name": "python",
   "nbconvert_exporter": "python",
   "pygments_lexer": "ipython3",
   "version": "3.5.2"
  }
 },
 "nbformat": 4,
 "nbformat_minor": 0
}
