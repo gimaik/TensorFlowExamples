{
 "cells": [
  {
   "cell_type": "code",
   "execution_count": 1,
   "metadata": {
    "collapsed": true
   },
   "outputs": [],
   "source": [
    "import numpy as np\n",
    "import tensorflow as tf\n",
    "import seaborn\n",
    "import matplotlib.patches as mpatches\n",
    "import matplotlib.pyplot as plt"
   ]
  },
  {
   "cell_type": "code",
   "execution_count": 2,
   "metadata": {
    "collapsed": true
   },
   "outputs": [],
   "source": [
    "X_data = np.arange(100, step = 0.05)\n",
    "y_data = X_data + 20 *np.sin(X_data/10 + np.random.normal(0, 10))"
   ]
  },
  {
   "cell_type": "code",
   "execution_count": 3,
   "metadata": {
    "collapsed": true
   },
   "outputs": [],
   "source": [
    "n_samples = len(X_data)\n",
    "batch_size = 200"
   ]
  },
  {
   "cell_type": "code",
   "execution_count": 4,
   "metadata": {
    "collapsed": true
   },
   "outputs": [],
   "source": [
    "X_data = (X_data - np.mean(X_data))/np.std(X_data)\n",
    "y_data = (y_data - np.mean(y_data))/np.std(y_data)\n",
    "X_data = np.reshape(X_data, (n_samples, 1))\n",
    "y_data = np.reshape(y_data, (n_samples, 1))"
   ]
  },
  {
   "cell_type": "code",
   "execution_count": 5,
   "metadata": {
    "collapsed": false
   },
   "outputs": [
    {
     "data": {
      "image/png": "[encoded data removed]",
      "text/plain": [
       "<matplotlib.figure.Figure at 0x1043facf8>"
      ]
     },
     "metadata": {},
     "output_type": "display_data"
    }
   ],
   "source": [
    "plt.scatter(X_data, y_data)\n",
    "plt.show()"
   ]
  },
  {
   "cell_type": "code",
   "execution_count": 6,
   "metadata": {
    "collapsed": true
   },
   "outputs": [],
   "source": [
    "X = tf.placeholder(tf.float32, shape=(None, None))\n",
    "y = tf.placeholder(tf.float32, shape=(batch_size, 1))"
   ]
  },
  {
   "cell_type": "code",
   "execution_count": 7,
   "metadata": {
    "collapsed": true
   },
   "outputs": [],
   "source": [
    "def model(X, W, B, p):\n",
    "    \n",
    "    \n",
    "    h1 = tf.nn.relu(tf.matmul(X, W[\"1\"])+B[\"1\"])\n",
    "    h1 = tf.nn.dropout(h1, p)\n",
    "    \n",
    "    h2 = tf.nn.relu(tf.matmul(h1, W[\"2\"])+B[\"2\"])\n",
    "    h2 = tf.nn.dropout(h2, p)\n",
    "    \n",
    "    h3 = tf.nn.relu(tf.matmul(h2, W[\"3\"])+B[\"3\"])\n",
    "    h3 = tf.nn.dropout(h3, p)\n",
    "    \n",
    "    h4 = tf.nn.relu(tf.matmul(h3, W[\"4\"])+B[\"4\"])\n",
    "    h4 = tf.nn.dropout(h4, p)\n",
    "    \n",
    "    out = tf.matmul(h4, W[\"5\"])+B[\"5\"]\n",
    "    \n",
    "    return out"
   ]
  },
  {
   "cell_type": "code",
   "execution_count": 8,
   "metadata": {
    "collapsed": false
   },
   "outputs": [
    {
     "ename": "NameError",
     "evalue": "name 'weight_decay' is not defined",
     "output_type": "error",
     "traceback": [
      "\u001b[0;31m---------------------------------------------------------------------------\u001b[0m",
      "\u001b[0;31mNameError\u001b[0m                                 Traceback (most recent call last)",
      "\u001b[0;32m<ipython-input-8-3272279e96b7>\u001b[0m in \u001b[0;36m<module>\u001b[0;34m()\u001b[0m\n\u001b[1;32m     31\u001b[0m     \u001b[0my_pred\u001b[0m \u001b[0;34m=\u001b[0m \u001b[0mmodel\u001b[0m\u001b[0;34m(\u001b[0m\u001b[0mX\u001b[0m\u001b[0;34m,\u001b[0m \u001b[0mW\u001b[0m\u001b[0;34m,\u001b[0m \u001b[0mB\u001b[0m\u001b[0;34m,\u001b[0m \u001b[0mp\u001b[0m\u001b[0;34m)\u001b[0m\u001b[0;34m\u001b[0m\u001b[0m\n\u001b[1;32m     32\u001b[0m \u001b[0;34m\u001b[0m\u001b[0m\n\u001b[0;32m---> 33\u001b[0;31m     \u001b[0mloss\u001b[0m \u001b[0;34m=\u001b[0m \u001b[0mtf\u001b[0m\u001b[0;34m.\u001b[0m\u001b[0mreduce_mean\u001b[0m\u001b[0;34m(\u001b[0m\u001b[0;34m(\u001b[0m\u001b[0my_pred\u001b[0m\u001b[0;34m-\u001b[0m\u001b[0my\u001b[0m\u001b[0;34m)\u001b[0m\u001b[0;34m**\u001b[0m\u001b[0;36m2\u001b[0m\u001b[0;34m)\u001b[0m \u001b[0;34m+\u001b[0m \u001b[0;36m0.0001\u001b[0m\u001b[0;34m*\u001b[0m\u001b[0mweight_decay\u001b[0m\u001b[0;34m\u001b[0m\u001b[0m\n\u001b[0m",
      "\u001b[0;31mNameError\u001b[0m: name 'weight_decay' is not defined"
     ]
    }
   ],
   "source": [
    "\n",
    "with tf.variable_scope(\"MLP\"):\n",
    "\n",
    "    n_neuron ={\n",
    "        \"input\": 1,\n",
    "        \"h1\": 100,\n",
    "        \"h2\": 100,\n",
    "        \"h3\": 100,\n",
    "        \"h4\": 100,\n",
    "        \"output\":1\n",
    "    }\n",
    "\n",
    "    W = {\n",
    "        \"1\": tf.get_variable(\"weights1\", (n_neuron[\"input\"],n_neuron[\"h1\"]), initializer = tf.random_normal_initializer(0, 0.01)),\n",
    "        \"2\": tf.get_variable(\"weights2\", (n_neuron[\"h1\"],n_neuron[\"h2\"]), initializer = tf.random_normal_initializer(0, 0.01)),\n",
    "        \"3\": tf.get_variable(\"weights3\", (n_neuron[\"h2\"],n_neuron[\"h3\"]), initializer = tf.random_normal_initializer(0, 0.01)),\n",
    "        \"4\": tf.get_variable(\"weights4\", (n_neuron[\"h3\"],n_neuron[\"h4\"]), initializer = tf.random_normal_initializer(0, 0.01)),\n",
    "        \"5\": tf.get_variable(\"weights5\", (n_neuron[\"h4\"],n_neuron[\"output\"]), initializer = tf.random_normal_initializer(0, 0.01)) \n",
    "    }\n",
    "\n",
    "    B = {\n",
    "        \"1\": tf.get_variable(\"bias1\", (n_neuron[\"h1\"]), initializer = tf.constant_initializer(0.5)),\n",
    "        \"2\": tf.get_variable(\"bias2\", (n_neuron[\"h2\"]), initializer = tf.constant_initializer(0.5)),\n",
    "        \"3\": tf.get_variable(\"bias3\", (n_neuron[\"h3\"]), initializer = tf.constant_initializer(0.5)),\n",
    "        \"4\": tf.get_variable(\"bias4\", (n_neuron[\"h4\"]), initializer = tf.constant_initializer(0.5)),\n",
    "        \"5\": tf.get_variable(\"bias5\", (n_neuron[\"output\"]), initializer = tf.constant_initializer(0.5))\n",
    "    }\n",
    "\n",
    "    p= 0.50\n",
    "    \n",
    "    y_pred = model(X, W, B, p)\n",
    "    \n",
    "    loss = tf.reduce_mean((y_pred-y)**2) + 0.0001*weight_decay"
   ]
  },
  {
   "cell_type": "code",
   "execution_count": null,
   "metadata": {
    "collapsed": true
   },
   "outputs": [],
   "source": [
    "opt = tf.train.AdamOptimizer().minimize(loss)"
   ]
  },
  {
   "cell_type": "code",
   "execution_count": null,
   "metadata": {
    "collapsed": false
   },
   "outputs": [],
   "source": [
    "with tf.Session() as sess:\n",
    "    sess.run(tf.initialize_all_variables())\n",
    "    \n",
    "    for _ in range(15000):\n",
    "        indices = np.random.choice(n_samples, batch_size)\n",
    "        X_batch, y_batch = X_data[indices], y_data[indices]\n",
    "        \n",
    "        _, loss_val= sess.run([opt, loss], feed_dict={X: X_batch, y: y_batch})\n",
    "    \n",
    "    prediction = sess.run(y_pred, feed_dict={X:X_data})"
   ]
  },
  {
   "cell_type": "code",
   "execution_count": null,
   "metadata": {
    "collapsed": false
   },
   "outputs": [],
   "source": [
    "plt.scatter(X_data, prediction, color='r')\n",
    "plt.scatter(X_data, y_data)\n",
    "plt.show()"
   ]
  }
 ],
 "metadata": {
  "kernelspec": {
   "display_name": "Python 3",
   "language": "python",
   "name": "python3"
  },
  "language_info": {
   "codemirror_mode": {
    "name": "ipython",
    "version": 3
   },
   "file_extension": ".py",
   "mimetype": "text/x-python",
   "name": "python",
   "nbconvert_exporter": "python",
   "pygments_lexer": "ipython3",
   "version": "3.5.2"
  }
 },
 "nbformat": 4,
 "nbformat_minor": 1
}
